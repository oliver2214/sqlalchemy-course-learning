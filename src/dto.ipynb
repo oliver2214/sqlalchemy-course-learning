{
 "cells": [
  {
   "cell_type": "code",
   "execution_count": 2,
   "metadata": {},
   "outputs": [],
   "source": [
    "from models import Persons, Profiles, WorkerORM, ResumeORM, VacancyORM\n",
    "from database import Base, session_factory, sync_engine, async_session_factory\n",
    "from schemas import PersonDTO, ProfileDTO\n",
    "\n",
    "from sqlalchemy import Integer, and_, cast, func, select\n",
    "from sqlalchemy.orm import joinedload, selectinload, aliased, contains_eager\n"
   ]
  },
  {
   "cell_type": "code",
   "execution_count": 7,
   "metadata": {},
   "outputs": [
    {
     "name": "stdout",
     "output_type": "stream",
     "text": [
      "2024-06-18 18:06:52,761 INFO sqlalchemy.engine.Engine BEGIN (implicit)\n",
      "2024-06-18 18:06:52,762 INFO sqlalchemy.engine.Engine SELECT persons.id, persons.name \n",
      "FROM persons \n",
      " LIMIT %(param_1)s::INTEGER\n",
      "2024-06-18 18:06:52,763 INFO sqlalchemy.engine.Engine [cached since 793.7s ago] {'param_1': 2}\n",
      "result=[<Persons id=6, name=Dima>, <Persons id=7, name=Aydar>]\n",
      "result_dto=[PersonDTO(name='Dima', id=6), PersonDTO(name='Aydar', id=7)]\n",
      "2024-06-18 18:06:52,767 INFO sqlalchemy.engine.Engine ROLLBACK\n"
     ]
    }
   ],
   "source": [
    "with session_factory() as session:\n",
    "    query = (\n",
    "        select(Persons)\n",
    "        .limit(2)\n",
    "    )\n",
    "\n",
    "    res = session.execute(query)\n",
    "    result = res.scalars().all()\n",
    "    print(f\"{result=}\")\n",
    "    result_dto = [PersonDTO.model_validate(row, from_attributes=True) for row in result]\n",
    "    print(f\"{result_dto=}\")"
   ]
  }
 ],
 "metadata": {
  "kernelspec": {
   "display_name": "venv",
   "language": "python",
   "name": "python3"
  },
  "language_info": {
   "codemirror_mode": {
    "name": "ipython",
    "version": 3
   },
   "file_extension": ".py",
   "mimetype": "text/x-python",
   "name": "python",
   "nbconvert_exporter": "python",
   "pygments_lexer": "ipython3",
   "version": "3.11.7"
  }
 },
 "nbformat": 4,
 "nbformat_minor": 2
}
